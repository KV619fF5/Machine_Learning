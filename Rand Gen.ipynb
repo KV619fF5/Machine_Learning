{
 "cells": [
  {
   "cell_type": "code",
   "execution_count": 78,
   "id": "53a85145",
   "metadata": {},
   "outputs": [],
   "source": [
    "import pandas as pd\n",
    "import numpy as np\n",
    "import matplotlib.pyplot as plt\n",
    "import random"
   ]
  },
  {
   "cell_type": "code",
   "execution_count": 79,
   "id": "2afd7a71",
   "metadata": {},
   "outputs": [],
   "source": [
    "x = np.random.randint(5,500,1000)\n",
    "y = np.random.randint(5,500,1000)"
   ]
  },
  {
   "cell_type": "code",
   "execution_count": 80,
   "id": "18217590",
   "metadata": {},
   "outputs": [
    {
     "data": {
      "text/plain": [
       "(1000,)"
      ]
     },
     "execution_count": 80,
     "metadata": {},
     "output_type": "execute_result"
    }
   ],
   "source": [
    "x.shape"
   ]
  },
  {
   "cell_type": "code",
   "execution_count": 81,
   "id": "61064116",
   "metadata": {},
   "outputs": [
    {
     "data": {
      "text/plain": [
       "(1000,)"
      ]
     },
     "execution_count": 81,
     "metadata": {},
     "output_type": "execute_result"
    }
   ],
   "source": [
    "y.shape\n",
    "\n"
   ]
  },
  {
   "cell_type": "code",
   "execution_count": 82,
   "id": "79c39370",
   "metadata": {},
   "outputs": [],
   "source": [
    "xtest,xtrain = x[:100],x[100:]\n",
    "ytest,ytrain = y[:100],y[100:]"
   ]
  },
  {
   "cell_type": "code",
   "execution_count": 83,
   "id": "5b80a2cf",
   "metadata": {
    "scrolled": true
   },
   "outputs": [
    {
     "data": {
      "text/plain": [
       "(900,)"
      ]
     },
     "execution_count": 83,
     "metadata": {},
     "output_type": "execute_result"
    }
   ],
   "source": [
    "ytrain.T.shape"
   ]
  },
  {
   "cell_type": "code",
   "execution_count": 84,
   "id": "f3ee1777",
   "metadata": {},
   "outputs": [
    {
     "data": {
      "text/plain": [
       "(900,)"
      ]
     },
     "execution_count": 84,
     "metadata": {},
     "output_type": "execute_result"
    }
   ],
   "source": [
    "xtrain.shape"
   ]
  },
  {
   "cell_type": "code",
   "execution_count": 85,
   "id": "59441403",
   "metadata": {},
   "outputs": [
    {
     "data": {
      "text/plain": [
       "(900,)"
      ]
     },
     "execution_count": 85,
     "metadata": {},
     "output_type": "execute_result"
    }
   ],
   "source": [
    "ytrain.shape"
   ]
  },
  {
   "cell_type": "code",
   "execution_count": 86,
   "id": "de783ceb",
   "metadata": {},
   "outputs": [
    {
     "name": "stderr",
     "output_type": "stream",
     "text": [
      "C:\\Users\\Kirthik\\AppData\\Local\\Temp\\ipykernel_8304\\2128444616.py:1: RuntimeWarning: overflow encountered in long_scalars\n",
      "  intcpt = ((sum(ytrain)*(xtrain@xtrain.T) - (sum(xtrain)*(xtrain@ytrain.T)))/((xtrain@xtrain.T)-sum(xtrain)**2))\n"
     ]
    }
   ],
   "source": [
    "intcpt = ((sum(ytrain)*(xtrain@xtrain.T) - (sum(xtrain)*(xtrain@ytrain.T)))/((xtrain@xtrain.T)-sum(xtrain)**2))"
   ]
  },
  {
   "cell_type": "code",
   "execution_count": 87,
   "id": "dfa5d038",
   "metadata": {},
   "outputs": [
    {
     "data": {
      "text/plain": [
       "2.211584089348764"
      ]
     },
     "execution_count": 87,
     "metadata": {},
     "output_type": "execute_result"
    }
   ],
   "source": [
    "intcpt"
   ]
  },
  {
   "cell_type": "code",
   "execution_count": 88,
   "id": "dd635df8",
   "metadata": {},
   "outputs": [
    {
     "data": {
      "text/plain": [
       "<matplotlib.collections.PathCollection at 0x1b5e1d4dbe0>"
      ]
     },
     "execution_count": 88,
     "metadata": {},
     "output_type": "execute_result"
    },
    {
     "data": {
      "image/png": "[encoded data removed]",
      "text/plain": [
       "<Figure size 432x288 with 1 Axes>"
      ]
     },
     "metadata": {
      "needs_background": "light"
     },
     "output_type": "display_data"
    }
   ],
   "source": [
    "plt.scatter(xtrain,ytrain,color='green')"
   ]
  },
  {
   "cell_type": "code",
   "execution_count": 89,
   "id": "0b0d8e02",
   "metadata": {},
   "outputs": [
    {
     "name": "stderr",
     "output_type": "stream",
     "text": [
      "C:\\Users\\Kirthik\\AppData\\Local\\Temp\\ipykernel_8304\\970059456.py:1: RuntimeWarning: overflow encountered in long_scalars\n",
      "  slp = (len(xtrain)*((xtrain@ytrain.T))-(sum(xtrain)*sum(ytrain)))/((len(xtrain)*(xtrain@xtrain.T))-sum(xtrain)**2)\n"
     ]
    }
   ],
   "source": [
    "slp = (len(xtrain)*((xtrain@ytrain.T))-(sum(xtrain)*sum(ytrain)))/((len(xtrain)*(xtrain@xtrain.T))-sum(xtrain)**2)"
   ]
  },
  {
   "cell_type": "code",
   "execution_count": 90,
   "id": "bc5bf547",
   "metadata": {},
   "outputs": [
    {
     "data": {
      "text/plain": [
       "-0.47439536110090674"
      ]
     },
     "execution_count": 90,
     "metadata": {},
     "output_type": "execute_result"
    }
   ],
   "source": [
    "slp"
   ]
  },
  {
   "cell_type": "code",
   "execution_count": 91,
   "id": "37268b9b",
   "metadata": {},
   "outputs": [],
   "source": [
    "intcpt = np.mean(ytrain) - slp*np.mean(xtrain)"
   ]
  },
  {
   "cell_type": "code",
   "execution_count": 92,
   "id": "8c9080f0",
   "metadata": {},
   "outputs": [
    {
     "data": {
      "text/plain": [
       "375.4395964867924"
      ]
     },
     "execution_count": 92,
     "metadata": {},
     "output_type": "execute_result"
    }
   ],
   "source": [
    "intcpt"
   ]
  },
  {
   "cell_type": "code",
   "execution_count": 93,
   "id": "b1550e9e",
   "metadata": {},
   "outputs": [],
   "source": [
    "w=[intcpt,slp]"
   ]
  },
  {
   "cell_type": "code",
   "execution_count": 94,
   "id": "df6ecc0d",
   "metadata": {},
   "outputs": [
    {
     "data": {
      "text/plain": [
       "(100,)"
      ]
     },
     "execution_count": 94,
     "metadata": {},
     "output_type": "execute_result"
    }
   ],
   "source": [
    "xtest.shape"
   ]
  },
  {
   "cell_type": "code",
   "execution_count": 95,
   "id": "27b23e13",
   "metadata": {},
   "outputs": [],
   "source": [
    "xtest = xtest.reshape((xtest.shape[0],1))"
   ]
  },
  {
   "cell_type": "code",
   "execution_count": 96,
   "id": "b3e8397e",
   "metadata": {},
   "outputs": [
    {
     "data": {
      "text/plain": [
       "(100, 1)"
      ]
     },
     "execution_count": 96,
     "metadata": {},
     "output_type": "execute_result"
    }
   ],
   "source": [
    "xtest.shape"
   ]
  },
  {
   "cell_type": "code",
   "execution_count": 97,
   "id": "37ee67f1",
   "metadata": {},
   "outputs": [],
   "source": [
    "xtest = np.append(np.ones((len(xtest),1)),xtest,axis=1)"
   ]
  },
  {
   "cell_type": "code",
   "execution_count": 98,
   "id": "366438d1",
   "metadata": {},
   "outputs": [],
   "source": [
    "ypred = xtest@w"
   ]
  },
  {
   "cell_type": "code",
   "execution_count": 99,
   "id": "211b5f69",
   "metadata": {},
   "outputs": [
    {
     "data": {
      "text/plain": [
       "array([250.67361652, 324.67929285, 319.46094388, 217.46594124,\n",
       "       248.30163971, 310.44743202, 256.36636085, 153.89696285,\n",
       "       243.08329074, 336.06478152, 320.4097346 , 344.60389802,\n",
       "       345.07829338, 293.84359438, 280.56052427, 235.96736032,\n",
       "       299.53633871, 292.89480366, 151.05059069, 262.53350054,\n",
       "       294.7923851 , 238.81373249, 222.68429021, 194.69496391,\n",
       "       262.53350054, 350.29664235, 254.46877941, 284.83008252,\n",
       "       243.08329074, 160.53849791, 361.20773565, 171.44959121,\n",
       "       353.61740988, 269.1750356 , 368.79806143, 319.93533924,\n",
       "       306.65226913, 167.18003296, 296.68996654, 241.1857093 ,\n",
       "       253.51998868, 367.84927071, 241.66010466, 180.93749844,\n",
       "       222.68429021, 373.06761968, 328.47445574, 279.13733818,\n",
       "       214.14517371, 327.05126965, 251.62240724, 190.42540566,\n",
       "       160.53849791, 294.31798974, 233.12098816, 168.60321905,\n",
       "       248.77603507, 205.13166185, 293.84359438, 364.52850318,\n",
       "       247.35284899, 371.6444336 , 208.45242938, 215.09396443,\n",
       "       143.93466027, 311.39622274, 273.44459385, 249.25043043,\n",
       "       301.43392016, 313.29380418, 251.14801188, 164.3336608 ,\n",
       "       164.80805616, 161.96168399, 338.91115368, 168.12882369,\n",
       "       203.23408041, 276.29096602, 274.86777993, 337.96236296,\n",
       "       278.18854746, 206.55484793, 208.45242938, 148.20421852,\n",
       "       251.14801188, 312.81940882, 162.43607935, 270.12382632,\n",
       "       235.49296496, 270.12382632, 371.6444336 , 174.29596338,\n",
       "       348.87345627, 215.5683598 , 261.11031446, 360.25894493,\n",
       "       139.66510202, 236.91615105, 305.22908304, 318.03775779])"
      ]
     },
     "execution_count": 99,
     "metadata": {},
     "output_type": "execute_result"
    }
   ],
   "source": [
    "ypred"
   ]
  },
  {
   "cell_type": "code",
   "execution_count": 100,
   "id": "f0e8c822",
   "metadata": {},
   "outputs": [
    {
     "data": {
      "text/plain": [
       "[<matplotlib.lines.Line2D at 0x1b5e1dce310>]"
      ]
     },
     "execution_count": 100,
     "metadata": {},
     "output_type": "execute_result"
    },
    {
     "data": {
      "image/png": "[encoded data removed]",
      "text/plain": [
       "<Figure size 432x288 with 1 Axes>"
      ]
     },
     "metadata": {
      "needs_background": "light"
     },
     "output_type": "display_data"
    }
   ],
   "source": [
    "plt.scatter( xtest[:,1], ytest, color = 'green' )\n",
    "      \n",
    "plt.plot( xtest[:,1], ypred , color = 'red')"
   ]
  },
  {
   "cell_type": "code",
   "execution_count": 77,
   "id": "d59c0640",
   "metadata": {},
   "outputs": [],
   "source": [
    "error = np.abs(ytest - ypred)"
   ]
  },
  {
   "cell_type": "code",
   "execution_count": 51,
   "id": "3fb8c8c6",
   "metadata": {},
   "outputs": [
    {
     "data": {
      "text/plain": [
       "151.80210675919363"
      ]
     },
     "execution_count": 51,
     "metadata": {},
     "output_type": "execute_result"
    }
   ],
   "source": [
    "(sum([x**2 for x in error])/len(error))**0.5\n",
    "\n"
   ]
  },
  {
   "cell_type": "code",
   "execution_count": 52,
   "id": "ca26bbec",
   "metadata": {},
   "outputs": [
    {
     "data": {
      "text/plain": [
       "[184.17846876313405, 0.2803161208838361]"
      ]
     },
     "execution_count": 52,
     "metadata": {},
     "output_type": "execute_result"
    }
   ],
   "source": [
    "w"
   ]
  },
  {
   "cell_type": "code",
   "execution_count": 53,
   "id": "6ecb4e9e",
   "metadata": {},
   "outputs": [
    {
     "data": {
      "text/plain": [
       "184.17846876313405"
      ]
     },
     "execution_count": 53,
     "metadata": {},
     "output_type": "execute_result"
    }
   ],
   "source": [
    "intcpt"
   ]
  },
  {
   "cell_type": "code",
   "execution_count": null,
   "id": "59955495",
   "metadata": {},
   "outputs": [],
   "source": []
  },
  {
   "cell_type": "code",
   "execution_count": null,
   "id": "f8213d3d",
   "metadata": {},
   "outputs": [],
   "source": []
  },
  {
   "cell_type": "code",
   "execution_count": null,
   "id": "366a8e5a",
   "metadata": {},
   "outputs": [],
   "source": []
  },
  {
   "cell_type": "code",
   "execution_count": null,
   "id": "ee532f93",
   "metadata": {},
   "outputs": [],
   "source": []
  }
 ],
 "metadata": {
  "kernelspec": {
   "display_name": "Python 3 (ipykernel)",
   "language": "python",
   "name": "python3"
  },
  "language_info": {
   "codemirror_mode": {
    "name": "ipython",
    "version": 3
   },
   "file_extension": ".py",
   "mimetype": "text/x-python",
   "name": "python",
   "nbconvert_exporter": "python",
   "pygments_lexer": "ipython3",
   "version": "3.9.12"
  }
 },
 "nbformat": 4,
 "nbformat_minor": 5
}
